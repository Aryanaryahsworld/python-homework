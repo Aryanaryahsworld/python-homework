{
  "nbformat": 4,
  "nbformat_minor": 0,
  "metadata": {
    "colab": {
      "provenance": []
    },
    "kernelspec": {
      "name": "python3",
      "display_name": "Python 3"
    },
    "language_info": {
      "name": "python"
    }
  },
  "cells": [
    {
      "cell_type": "code",
      "source": [
        "def count_characters(s):\n",
        "    return len(s)\n",
        "\n",
        "def reverse_string(s):\n",
        "    return s[::-1]\n",
        "\n",
        "def is_palindrome(s):\n",
        "    return s == s[::-1]\n",
        "\n",
        "def remove_vowels(s):\n",
        "    vowels = \"aeiouAEIOU\"\n",
        "    return ''.join([char for char in s if char not in vowels])\n",
        "\n",
        "def first_non_repeating(s):\n",
        "    for char in s:\n",
        "        if s.count(char) == 1:\n",
        "            return char\n",
        "    return None\n",
        "\n",
        "# Test the functions with an example string\n",
        "example_string = \"Hello World\"\n",
        "print(\"Count Characters:\", count_characters(example_string))\n",
        "print(\"Reverse String:\", reverse_string(example_string))\n",
        "print(\"Is Palindrome:\", is_palindrome(example_string))\n",
        "print(\"Remove Vowels:\", remove_vowels(example_string))\n",
        "print(\"First Non-repeating Character:\", first_non_repeating(example_string))\n",
        "# first 5 exercise string"
      ],
      "metadata": {
        "colab": {
          "base_uri": "https://localhost:8080/"
        },
        "id": "qC1JGh6V-tsi",
        "outputId": "423f044d-98eb-49b2-dd7a-3cf8b01b72fc"
      },
      "execution_count": 8,
      "outputs": [
        {
          "output_type": "stream",
          "name": "stdout",
          "text": [
            "Count Characters: 11\n",
            "Reverse String: dlroW olleH\n",
            "Is Palindrome: False\n",
            "Remove Vowels: Hll Wrld\n",
            "First Non-repeating Character: H\n"
          ]
        }
      ]
    },
    {
      "cell_type": "code",
      "source": [
        "def capitalize_first_letter(s):\n",
        "    return ' '.join(word.capitalize() for word in s.split())\n",
        "\n",
        "print(\"Capitalize First Letter:\", capitalize_first_letter(\"hello world\"))\n",
        "#6"
      ],
      "metadata": {
        "colab": {
          "base_uri": "https://localhost:8080/"
        },
        "id": "sv59hTip-3G0",
        "outputId": "d4ce7a8d-602d-4507-fb82-9426e0dd75f1"
      },
      "execution_count": 14,
      "outputs": [
        {
          "output_type": "stream",
          "name": "stdout",
          "text": [
            "Capitalize First Letter: Hello World\n"
          ]
        }
      ]
    },
    {
      "cell_type": "code",
      "source": [
        "def is_anagram(s1, s2):\n",
        "    return sorted(s1) == sorted(s2)\n",
        "\n",
        "print(\"Is Anagram:\", is_anagram(\"listen\", \"silent\"))\n",
        "#7"
      ],
      "metadata": {
        "colab": {
          "base_uri": "https://localhost:8080/"
        },
        "id": "OtEpyMKv_Kff",
        "outputId": "8f2048d0-ae6e-4d6d-9180-2f3481a57ce2"
      },
      "execution_count": 17,
      "outputs": [
        {
          "output_type": "stream",
          "name": "stdout",
          "text": [
            "Is Anagram: True\n"
          ]
        }
      ]
    },
    {
      "cell_type": "code",
      "source": [
        "def most_frequent_char(s):\n",
        "    return max(set(s), key = s.count)\n",
        "\n",
        "print(\"Most Frequent Character:\", most_frequent_char(\"hello world\"))\n",
        "#8"
      ],
      "metadata": {
        "colab": {
          "base_uri": "https://localhost:8080/"
        },
        "id": "1qXnjjiSCItA",
        "outputId": "32e67d76-c603-437f-de91-31f98cf7b2d6"
      },
      "execution_count": 19,
      "outputs": [
        {
          "output_type": "stream",
          "name": "stdout",
          "text": [
            "Most Frequent Character: l\n"
          ]
        }
      ]
    },
    {
      "cell_type": "code",
      "source": [
        "import re\n",
        "def is_valid_email(email):\n",
        "    return bool(re.match(r\"[^@]+@[^@]+\\.[^@]+\", email))\n",
        "\n",
        "print(\"Is Valid Email:\", is_valid_email(\"example@email.com\"))\n",
        "#9"
      ],
      "metadata": {
        "colab": {
          "base_uri": "https://localhost:8080/"
        },
        "id": "P5r1EadBCPYB",
        "outputId": "e1ac8a6f-3b66-4506-f5d0-7622e6780bb1"
      },
      "execution_count": 21,
      "outputs": [
        {
          "output_type": "stream",
          "name": "stdout",
          "text": [
            "Is Valid Email: True\n"
          ]
        }
      ]
    },
    {
      "cell_type": "code",
      "source": [
        "def longest_substring(s):\n",
        "    char_set = set()\n",
        "    left = 0\n",
        "    result = 0\n",
        "    for right in range(len(s)):\n",
        "        while s[right] in char_set:\n",
        "            char_set.remove(s[left])\n",
        "            left += 1\n",
        "        char_set.add(s[right])\n",
        "        result = max(result, right - left + 1)\n",
        "    return result\n",
        "\n",
        "print(\"Longest Substring Without Repeating:\", longest_substring(\"abcabcbb\"))\n"
      ],
      "metadata": {
        "colab": {
          "base_uri": "https://localhost:8080/"
        },
        "id": "T6tLhnQNCeP9",
        "outputId": "c149ba8a-1c44-48e7-c910-1db8c819ed98"
      },
      "execution_count": 23,
      "outputs": [
        {
          "output_type": "stream",
          "name": "stdout",
          "text": [
            "Longest Substring Without Repeating: 3\n"
          ]
        }
      ]
    },
    {
      "cell_type": "code",
      "source": [
        "#List\n",
        "#sum of all elemets in list\n",
        "def sum_of_list(lst):\n",
        "    return sum(lst)\n",
        "\n",
        "print(\"Sum of List:\", sum_of_list([1, 2, 3, 4, 5]))\n"
      ],
      "metadata": {
        "colab": {
          "base_uri": "https://localhost:8080/"
        },
        "id": "IBPU4PjDCig9",
        "outputId": "b9fe4b9f-63da-4a1f-cedc-52e102958b8c"
      },
      "execution_count": 27,
      "outputs": [
        {
          "output_type": "stream",
          "name": "stdout",
          "text": [
            "Sum of List: 15\n"
          ]
        }
      ]
    },
    {
      "cell_type": "code",
      "source": [
        "#remove duplicates from a list\n",
        "def remove_duplicates(lst):\n",
        "    return list(set(lst))\n",
        "\n",
        "print(\"Remove Duplicates:\", remove_duplicates([1, 2, 2, 3, 3, 4, 5]))\n"
      ],
      "metadata": {
        "colab": {
          "base_uri": "https://localhost:8080/"
        },
        "id": "VHRQYYNKDxlb",
        "outputId": "d6417c72-47c7-4176-b930-f26995400cc5"
      },
      "execution_count": 28,
      "outputs": [
        {
          "output_type": "stream",
          "name": "stdout",
          "text": [
            "Remove Duplicates: [1, 2, 3, 4, 5]\n"
          ]
        }
      ]
    },
    {
      "cell_type": "code",
      "source": [
        "#minimum and maximum in a list\n",
        "def max_min_list(lst):\n",
        "    return max(lst), min(lst)\n",
        "\n",
        "print(\"Max and Min:\", max_min_list([1, 2, 3, 4, 5]))\n"
      ],
      "metadata": {
        "colab": {
          "base_uri": "https://localhost:8080/"
        },
        "id": "NwejomPfD819",
        "outputId": "b3b16f96-bd1d-4cf6-f308-b2ce19f8fd2d"
      },
      "execution_count": 31,
      "outputs": [
        {
          "output_type": "stream",
          "name": "stdout",
          "text": [
            "Max and Min: (5, 1)\n"
          ]
        }
      ]
    },
    {
      "cell_type": "code",
      "source": [
        "# checking a sorted list\n",
        "def is_sorted(lst):\n",
        "    return lst == sorted(lst)\n",
        "\n",
        "print(\"Is Sorted:\", is_sorted([1, 2, 3, 4, 5]))\n"
      ],
      "metadata": {
        "colab": {
          "base_uri": "https://localhost:8080/"
        },
        "id": "IZiF-eXKEPep",
        "outputId": "d8842e26-14f4-4ff6-a090-15c87374d592"
      },
      "execution_count": 32,
      "outputs": [
        {
          "output_type": "stream",
          "name": "stdout",
          "text": [
            "Is Sorted: True\n"
          ]
        }
      ]
    },
    {
      "cell_type": "code",
      "source": [
        "def second_largest(lst):\n",
        "    return sorted(set(lst))[-2]\n",
        "\n",
        "print(\"Second Largest:\", second_largest([1, 2, 3, 4, 5]))\n",
        "#second larget element in a list"
      ],
      "metadata": {
        "colab": {
          "base_uri": "https://localhost:8080/"
        },
        "id": "dgCFgIseElB6",
        "outputId": "fcaa7b18-9ac1-4b3c-e031-c0b42cd5151a"
      },
      "execution_count": 34,
      "outputs": [
        {
          "output_type": "stream",
          "name": "stdout",
          "text": [
            "Second Largest: 4\n"
          ]
        }
      ]
    },
    {
      "cell_type": "code",
      "source": [
        "#Alphabetically sorting a list\n",
        "def sort_strings(lst):\n",
        "    return sorted(lst)\n",
        "\n",
        "print(\"Sorted Strings:\", sort_strings([\"banana\", \"apple\", \"cherry\"]))\n"
      ],
      "metadata": {
        "colab": {
          "base_uri": "https://localhost:8080/"
        },
        "id": "l9wvtqGdE5Cg",
        "outputId": "f5d1c4c5-126a-436e-fa98-a27f6b679cec"
      },
      "execution_count": 37,
      "outputs": [
        {
          "output_type": "stream",
          "name": "stdout",
          "text": [
            "Sorted Strings: ['apple', 'banana', 'cherry']\n"
          ]
        }
      ]
    },
    {
      "cell_type": "code",
      "source": [
        "#common elements between two list\n",
        "def common_elements(lst1, lst2):\n",
        "    return list(set(lst1) & set(lst2))\n",
        "\n",
        "print(\"Common Elements:\", common_elements([1, 2, 3], [3, 4, 5]))\n"
      ],
      "metadata": {
        "colab": {
          "base_uri": "https://localhost:8080/"
        },
        "id": "4r0MSW8IFRK-",
        "outputId": "0349d2c7-3084-428e-b966-d377099009a1"
      },
      "execution_count": 39,
      "outputs": [
        {
          "output_type": "stream",
          "name": "stdout",
          "text": [
            "Common Elements: [3]\n"
          ]
        }
      ]
    },
    {
      "cell_type": "code",
      "source": [
        "# remove nth occurence of elements\n",
        "def remove_nth_occurrence(lst, n, elem):\n",
        "    count = 0\n",
        "    for i in range(len(lst)):\n",
        "        if lst[i] == elem:\n",
        "            count += 1\n",
        "            if count == n:\n",
        "                del lst[i]\n",
        "                break\n",
        "    return lst\n",
        "\n",
        "print(\"Remove Nth Occurrence:\", remove_nth_occurrence([1, 2, 3, 2, 2, 4], 2, 2))\n"
      ],
      "metadata": {
        "colab": {
          "base_uri": "https://localhost:8080/"
        },
        "id": "MS64v3D0FwqR",
        "outputId": "3e1a17a3-dc5f-4f8f-a4de-9690ce021ef2"
      },
      "execution_count": 41,
      "outputs": [
        {
          "output_type": "stream",
          "name": "stdout",
          "text": [
            "Remove Nth Occurrence: [1, 2, 3, 2, 4]\n"
          ]
        }
      ]
    },
    {
      "cell_type": "code",
      "source": [
        "#difference between two lists\n",
        "def difference_lists(lst1, lst2):\n",
        "    return list(set(lst1) - set(lst2))\n",
        "\n",
        "print(\"Difference:\", difference_lists([1, 2, 3, 4, 5], [2, 3]))\n"
      ],
      "metadata": {
        "colab": {
          "base_uri": "https://localhost:8080/"
        },
        "id": "4p_8r8ujF_ya",
        "outputId": "4eb20db3-b51f-494a-a0ee-a90d7bb8a770"
      },
      "execution_count": 43,
      "outputs": [
        {
          "output_type": "stream",
          "name": "stdout",
          "text": [
            "Difference: [1, 4, 5]\n"
          ]
        }
      ]
    },
    {
      "cell_type": "code",
      "source": [
        "#remove elemts divisible by 3\n",
        "def remove_divisible_by_3(lst):\n",
        "    return [x for x in lst if x % 3 != 0]\n",
        "\n",
        "print(\"Remove Divisible by 3:\", remove_divisible_by_3([1, 2, 3, 4, 5, 6]))\n"
      ],
      "metadata": {
        "colab": {
          "base_uri": "https://localhost:8080/"
        },
        "id": "fCvSreqtGLCw",
        "outputId": "cd8e31dc-e0cb-46a4-db25-7b076331505d"
      },
      "execution_count": 46,
      "outputs": [
        {
          "output_type": "stream",
          "name": "stdout",
          "text": [
            "Remove Divisible by 3: [1, 2, 4, 5]\n"
          ]
        }
      ]
    },
    {
      "cell_type": "markdown",
      "source": [
        "tuples"
      ],
      "metadata": {
        "id": "Ld3qFx94KVMw"
      }
    },
    {
      "cell_type": "code",
      "source": [
        "# tuple\n",
        "#length of a tuple\n",
        "def tuple_length(t):\n",
        "    return len(t)\n",
        "\n",
        "print(\"Tuple Length:\", tuple_length((1, 2, 3, 4, 5)))\n"
      ],
      "metadata": {
        "colab": {
          "base_uri": "https://localhost:8080/"
        },
        "id": "vI7upOqRGc6o",
        "outputId": "b2066cfb-5864-4b09-eed1-42e67c1b0626"
      },
      "execution_count": 50,
      "outputs": [
        {
          "output_type": "stream",
          "name": "stdout",
          "text": [
            "Tuple Length: 5\n"
          ]
        }
      ]
    },
    {
      "cell_type": "code",
      "source": [
        "def concatenate_tuples(t1, t2):\n",
        "    return t1 + t2\n",
        "\n",
        "print(\"Concatenated Tuples:\", concatenate_tuples((1, 2, 3), (4, 5, 6)))\n",
        "#joinining/concatenate tuples"
      ],
      "metadata": {
        "colab": {
          "base_uri": "https://localhost:8080/"
        },
        "id": "6r2zv2GDG5UN",
        "outputId": "6cc956cc-c1bf-4f21-e3dd-1f501ae8cd89"
      },
      "execution_count": 53,
      "outputs": [
        {
          "output_type": "stream",
          "name": "stdout",
          "text": [
            "Concatenated Tuples: (1, 2, 3, 4, 5, 6)\n"
          ]
        }
      ]
    },
    {
      "cell_type": "code",
      "source": [
        "#converting tuple to list\n",
        "def tuple_to_list(t):\n",
        "    return list(t)\n",
        "\n",
        "print(\"Tuple to List:\", tuple_to_list((1, 2, 3, 4, 5)))\n"
      ],
      "metadata": {
        "colab": {
          "base_uri": "https://localhost:8080/"
        },
        "id": "QyP27q2bHDJw",
        "outputId": "ab82afa5-6fe5-415e-9a39-42890f14fe98"
      },
      "execution_count": 55,
      "outputs": [
        {
          "output_type": "stream",
          "name": "stdout",
          "text": [
            "Tuple to List: [1, 2, 3, 4, 5]\n"
          ]
        }
      ]
    },
    {
      "cell_type": "code",
      "source": [
        "#find index of elemnts in tuple\n",
        "def find_index(t, elem):\n",
        "    return t.index(elem)\n",
        "\n",
        "print(\"Index of Element:\", find_index((1, 2, 3, 4, 5), 3))\n"
      ],
      "metadata": {
        "colab": {
          "base_uri": "https://localhost:8080/"
        },
        "id": "rq6_1baDHLe3",
        "outputId": "33d4fc16-4421-4973-a2cb-88b25ccb0da7"
      },
      "execution_count": 57,
      "outputs": [
        {
          "output_type": "stream",
          "name": "stdout",
          "text": [
            "Index of Element: 2\n"
          ]
        }
      ]
    },
    {
      "cell_type": "code",
      "source": [
        "#check if elements are in tuple\n",
        "def element_exists(t, elem):\n",
        "    return elem in t\n",
        "\n",
        "print(\"Element Exists:\", element_exists((1, 2, 3, 4, 5), 3))\n"
      ],
      "metadata": {
        "colab": {
          "base_uri": "https://localhost:8080/"
        },
        "id": "N2PxtyZkHb1S",
        "outputId": "836629d5-c684-4d99-f05c-b439685d22b6"
      },
      "execution_count": 60,
      "outputs": [
        {
          "output_type": "stream",
          "name": "stdout",
          "text": [
            "Element Exists: True\n"
          ]
        }
      ]
    },
    {
      "cell_type": "code",
      "source": [
        "# counting the occurences of certain elements in a tuple\n",
        "def count_occurrences(t, elem):\n",
        "    return t.count(elem)\n",
        "\n",
        "print(\"Count Occurrences:\", count_occurrences((1, 2, 3, 4, 3, 3, 5), 3))\n"
      ],
      "metadata": {
        "colab": {
          "base_uri": "https://localhost:8080/"
        },
        "id": "GVy4EgatHqkK",
        "outputId": "983d894b-1f33-494d-8e9b-dd4ab46fb17c"
      },
      "execution_count": 62,
      "outputs": [
        {
          "output_type": "stream",
          "name": "stdout",
          "text": [
            "Count Occurrences: 3\n"
          ]
        }
      ]
    },
    {
      "cell_type": "code",
      "source": [
        "#maximum and minimum in a tuple\n",
        "def max_min_tuple(t):\n",
        "    return max(t), min(t)\n",
        "\n",
        "print(\"Max and Min:\", max_min_tuple((1, 2, 3, 4, 5)))\n"
      ],
      "metadata": {
        "colab": {
          "base_uri": "https://localhost:8080/"
        },
        "id": "j4o4RhJyH6ZJ",
        "outputId": "72daa7dd-f99a-4cc9-c32a-5cef462345a2"
      },
      "execution_count": 64,
      "outputs": [
        {
          "output_type": "stream",
          "name": "stdout",
          "text": [
            "Max and Min: (5, 1)\n"
          ]
        }
      ]
    },
    {
      "cell_type": "code",
      "source": [
        "#revrse a tuple\n",
        "def reverse_tuple(t):\n",
        "    return t[::-1]\n",
        "\n",
        "print(\"Reversed Tuple:\", reverse_tuple((1, 2, 3, 4, 5)))\n"
      ],
      "metadata": {
        "colab": {
          "base_uri": "https://localhost:8080/"
        },
        "id": "EbW3py8mIDim",
        "outputId": "8ad351ea-db33-4545-b34a-ba850b2483d1"
      },
      "execution_count": 66,
      "outputs": [
        {
          "output_type": "stream",
          "name": "stdout",
          "text": [
            "Reversed Tuple: (5, 4, 3, 2, 1)\n"
          ]
        }
      ]
    },
    {
      "cell_type": "code",
      "source": [
        "# check if all elements are same\n",
        "def all_elements_same(t):\n",
        "    return all(elem == t[0] for elem in t)\n",
        "\n",
        "print(\"All Elements Same:\", all_elements_same((1, 1, 1, 1)))\n"
      ],
      "metadata": {
        "colab": {
          "base_uri": "https://localhost:8080/"
        },
        "id": "EpXljo9lIJpz",
        "outputId": "0174255f-df65-4c34-85aa-0b17d9d07de9"
      },
      "execution_count": 68,
      "outputs": [
        {
          "output_type": "stream",
          "name": "stdout",
          "text": [
            "All Elements Same: True\n"
          ]
        }
      ]
    },
    {
      "cell_type": "code",
      "source": [
        "#combine if elements are in tuple\n",
        "def combine_tuples(t1, t2):\n",
        "    return tuple(a for pair in zip(t1, t2) for a in pair)\n",
        "\n",
        "print(\"Combined Tuples:\", combine_tuples((1, 2, 3), ('a', 'b', 'c')))\n"
      ],
      "metadata": {
        "colab": {
          "base_uri": "https://localhost:8080/"
        },
        "id": "ZHXlMnKPIhkg",
        "outputId": "6cd7dbec-0722-444d-d77f-dfd6c365fff1"
      },
      "execution_count": 71,
      "outputs": [
        {
          "output_type": "stream",
          "name": "stdout",
          "text": [
            "Combined Tuples: (1, 'a', 2, 'b', 3, 'c')\n"
          ]
        }
      ]
    },
    {
      "cell_type": "markdown",
      "source": [
        "sets"
      ],
      "metadata": {
        "id": "wkOeufQlKkla"
      }
    },
    {
      "cell_type": "code",
      "source": [
        "# Union of Two Sets\n",
        "def union_sets(set1, set2):\n",
        "    return set1.union(set2)\n",
        "\n",
        "print(\"# Union of Sets:\", union_sets({1, 2, 3}, {3, 4, 5}))\n",
        "\n",
        "# Intersection of Two Sets\n",
        "def intersection_sets(set1, set2):\n",
        "    return set1.intersection(set2)\n",
        "\n",
        "print(\"# Intersection of Sets:\", intersection_sets({1, 2, 3}, {3, 4, 5}))\n",
        "\n",
        "# Check Subset\n",
        "def is_subset(set1, set2):\n",
        "    return set1.issubset(set2)\n",
        "\n",
        "print(\"# Is Subset:\", is_subset({1, 2}, {1, 2, 3}))\n",
        "\n",
        "# Remove Duplicates from Set\n",
        "def remove_duplicates(s):\n",
        "    return set(s)\n",
        "\n",
        "print(\"# Remove Duplicates:\", remove_duplicates([1, 2, 2, 3, 3, 4, 5]))\n",
        "\n",
        "# Add Element to Set\n",
        "def add_element(s, elem):\n",
        "    s.add(elem)\n",
        "    return s\n",
        "\n",
        "print(\"# Add Element:\", add_element({1, 2, 3}, 4))\n",
        "\n",
        "# Remove Element from Set\n",
        "def remove_element(s, elem):\n",
        "    s.discard(elem)\n",
        "    return s\n",
        "\n",
        "print(\"# Remove Element:\", remove_element({1, 2, 3, 4}, 4))\n",
        "\n",
        "# Difference Between Two Sets\n",
        "def difference_sets(set1, set2):\n",
        "    return set1.difference(set2)\n",
        "\n",
        "print(\"# Difference of Sets:\", difference_sets({1, 2, 3}, {3, 4, 5}))\n",
        "\n",
        "# Check Disjoint Sets\n",
        "def are_disjoint(set1, set2):\n",
        "    return set1.isdisjoint(set2)\n",
        "\n",
        "print(\"# Are Disjoint:\", are_disjoint({1, 2, 3}, {4, 5, 6}))\n",
        "\n",
        "# Symmetric Difference Between Two Sets\n",
        "def symmetric_difference_sets(set1, set2):\n",
        "    return set1.symmetric_difference(set2)\n",
        "\n",
        "print(\"# Symmetric Difference:\", symmetric_difference_sets({1, 2, 3}, {3, 4, 5}))\n",
        "\n",
        "# Check if Set is Empty\n",
        "def is_set_empty(s):\n",
        "    return len(s) == 0\n",
        "\n",
        "print(\"# Is Set Empty:\", is_set_empty(set()))\n"
      ],
      "metadata": {
        "colab": {
          "base_uri": "https://localhost:8080/"
        },
        "id": "gC6-8y4nJPbj",
        "outputId": "4d262dd5-6a8d-4d6a-b5b3-56c11c4ebe1b"
      },
      "execution_count": 73,
      "outputs": [
        {
          "output_type": "stream",
          "name": "stdout",
          "text": [
            "# Union of Sets: {1, 2, 3, 4, 5}\n",
            "# Intersection of Sets: {3}\n",
            "# Is Subset: True\n",
            "# Remove Duplicates: {1, 2, 3, 4, 5}\n",
            "# Add Element: {1, 2, 3, 4}\n",
            "# Remove Element: {1, 2, 3}\n",
            "# Difference of Sets: {1, 2}\n",
            "# Are Disjoint: True\n",
            "# Symmetric Difference: {1, 2, 4, 5}\n",
            "# Is Set Empty: True\n"
          ]
        }
      ]
    },
    {
      "cell_type": "markdown",
      "source": [
        "Dictionary"
      ],
      "metadata": {
        "id": "hCNSIwhhKZfv"
      }
    },
    {
      "cell_type": "code",
      "source": [
        "# Iterate over a dictionary and print keys and values\n",
        "def iterate_dict(d):\n",
        "    for key, value in d.items():\n",
        "        print(key, value)\n",
        "\n",
        "iterate_dict({'a': 1, 'b': 2, 'c': 3})\n"
      ],
      "metadata": {
        "colab": {
          "base_uri": "https://localhost:8080/"
        },
        "id": "X0ftfe9LKYI_",
        "outputId": "37e0f641-4f0e-4783-c2c2-dce248e0eb01"
      },
      "execution_count": 75,
      "outputs": [
        {
          "output_type": "stream",
          "name": "stdout",
          "text": [
            "a 1\n",
            "b 2\n",
            "c 3\n"
          ]
        }
      ]
    },
    {
      "cell_type": "code",
      "source": [
        "# Check if a key exists in a dictionary\n",
        "def key_exists(d, key):\n",
        "    return key in d\n",
        "\n",
        "print(key_exists({'a': 1, 'b': 2, 'c': 3}, 'b'))\n"
      ],
      "metadata": {
        "colab": {
          "base_uri": "https://localhost:8080/"
        },
        "id": "MGqeGq8KK5sF",
        "outputId": "4ee59e4d-c637-4996-9790-51d5ae5b1cfb"
      },
      "execution_count": 77,
      "outputs": [
        {
          "output_type": "stream",
          "name": "stdout",
          "text": [
            "True\n"
          ]
        }
      ]
    },
    {
      "cell_type": "code",
      "source": [
        "# Get the value associated with a key in a dictionary\n",
        "def get_value(d, key):\n",
        "    return d.get(key, None)\n",
        "\n",
        "print(get_value({'a': 1, 'b': 2, 'c': 3}, 'c'))\n"
      ],
      "metadata": {
        "colab": {
          "base_uri": "https://localhost:8080/"
        },
        "id": "yi--cpDOK9rY",
        "outputId": "c68d7353-a83b-41b6-c9ce-274f8de3b68b"
      },
      "execution_count": 79,
      "outputs": [
        {
          "output_type": "stream",
          "name": "stdout",
          "text": [
            "3\n"
          ]
        }
      ]
    },
    {
      "cell_type": "code",
      "source": [
        "# Remove a key from a dictionary\n",
        "def remove_key(d, key):\n",
        "    d.pop(key, None)\n",
        "    return d\n",
        "\n",
        "print(remove_key({'a': 1, 'b': 2, 'c': 3}, 'b'))\n"
      ],
      "metadata": {
        "colab": {
          "base_uri": "https://localhost:8080/"
        },
        "id": "5GQTOWTWK-0x",
        "outputId": "1ff9213e-fa88-4b2c-a98e-292dd72fcb82"
      },
      "execution_count": 81,
      "outputs": [
        {
          "output_type": "stream",
          "name": "stdout",
          "text": [
            "{'a': 1, 'c': 3}\n"
          ]
        }
      ]
    },
    {
      "cell_type": "code",
      "source": [
        "# Sort a dictionary by its values\n",
        "def sort_by_value(d):\n",
        "    return dict(sorted(d.items(), key=lambda item: item[1]))\n",
        "\n",
        "print(sort_by_value({'a': 3, 'b': 1, 'c': 2}))\n"
      ],
      "metadata": {
        "colab": {
          "base_uri": "https://localhost:8080/"
        },
        "id": "HxOI7RHWLGgG",
        "outputId": "ea87d02a-dd15-4bf6-c84f-1968faf2ac6b"
      },
      "execution_count": 83,
      "outputs": [
        {
          "output_type": "stream",
          "name": "stdout",
          "text": [
            "{'b': 1, 'c': 2, 'a': 3}\n"
          ]
        }
      ]
    },
    {
      "cell_type": "code",
      "source": [
        "# Sort a dictionary by its values\n",
        "def sort_by_value(d):\n",
        "    return dict(sorted(d.items(), key=lambda item: item[1]))\n",
        "\n",
        "print(sort_by_value({'a': 3, 'b': 1, 'c': 2}))\n"
      ],
      "metadata": {
        "colab": {
          "base_uri": "https://localhost:8080/"
        },
        "id": "2_TKaFp3LRuP",
        "outputId": "6b62c03b-0621-499c-ed05-4647e4305aa8"
      },
      "execution_count": 85,
      "outputs": [
        {
          "output_type": "stream",
          "name": "stdout",
          "text": [
            "{'b': 1, 'c': 2, 'a': 3}\n"
          ]
        }
      ]
    },
    {
      "cell_type": "code",
      "source": [
        "# Merge two dictionaries\n",
        "def merge_dicts(d1, d2):\n",
        "    return {**d1, **d2}\n",
        "\n",
        "print(merge_dicts({'a': 1, 'b': 2}, {'c': 3, 'd': 4}))\n"
      ],
      "metadata": {
        "colab": {
          "base_uri": "https://localhost:8080/"
        },
        "id": "9Mu5ZEJNLUig",
        "outputId": "33034c10-319b-4d0d-8524-6460cf3ed350"
      },
      "execution_count": 88,
      "outputs": [
        {
          "output_type": "stream",
          "name": "stdout",
          "text": [
            "{'a': 1, 'b': 2, 'c': 3, 'd': 4}\n"
          ]
        }
      ]
    },
    {
      "cell_type": "code",
      "source": [
        "# Count the frequency of each element in a dictionary\n",
        "def frequency_dict(d):\n",
        "    freq = {}\n",
        "    for key in d:\n",
        "        freq[d[key]] = freq.get(d[key], 0) + 1\n",
        "    return freq\n",
        "\n",
        "print(frequency_dict({'a': 1, 'b': 2, 'c': 1, 'd': 2}))\n"
      ],
      "metadata": {
        "colab": {
          "base_uri": "https://localhost:8080/"
        },
        "id": "zVKLVyKsLcPC",
        "outputId": "5dd20ead-a21d-4794-f4e6-b5cc7987fb10"
      },
      "execution_count": 90,
      "outputs": [
        {
          "output_type": "stream",
          "name": "stdout",
          "text": [
            "{1: 2, 2: 2}\n"
          ]
        }
      ]
    },
    {
      "cell_type": "code",
      "source": [
        "# Find the length of a dictionary\n",
        "def length_dict(d):\n",
        "    return len(d)\n",
        "\n",
        "print(length_dict({'a': 1, 'b': 2, 'c': 3}))\n"
      ],
      "metadata": {
        "colab": {
          "base_uri": "https://localhost:8080/"
        },
        "id": "l_1S-6HWLgX5",
        "outputId": "126f53a7-be51-4192-dcb5-8a39922ea836"
      },
      "execution_count": 93,
      "outputs": [
        {
          "output_type": "stream",
          "name": "stdout",
          "text": [
            "3\n"
          ]
        }
      ]
    },
    {
      "cell_type": "code",
      "source": [
        "# Check if a dictionary is empty\n",
        "def is_empty_dict(d):\n",
        "    return len(d) == 0\n",
        "\n",
        "print(is_empty_dict({}))\n"
      ],
      "metadata": {
        "colab": {
          "base_uri": "https://localhost:8080/"
        },
        "id": "hjRMRI93LhyB",
        "outputId": "6788f71c-bb8d-4b9c-a55f-9fba4907025f"
      },
      "execution_count": 94,
      "outputs": [
        {
          "output_type": "stream",
          "name": "stdout",
          "text": [
            "True\n"
          ]
        }
      ]
    },
    {
      "cell_type": "code",
      "source": [
        "# Find the keys with the maximum and minimum values in a dictionary\n",
        "def max_min_keys(d):\n",
        "    max_key = max(d, key=d.get)\n",
        "    min_key = min(d, key=d.get)\n",
        "    return max_key, min_key\n",
        "\n",
        "print(max_min_keys({'a': 1, 'b': 2, 'c': 3}))\n"
      ],
      "metadata": {
        "colab": {
          "base_uri": "https://localhost:8080/"
        },
        "id": "BKhNZ20xLziI",
        "outputId": "b7de849a-9e0a-4a45-db0e-e3ba87cc6ae7"
      },
      "execution_count": 96,
      "outputs": [
        {
          "output_type": "stream",
          "name": "stdout",
          "text": [
            "('c', 'a')\n"
          ]
        }
      ]
    },
    {
      "cell_type": "markdown",
      "source": [
        "Range\n"
      ],
      "metadata": {
        "id": "KAMYjrJuOrm7"
      }
    },
    {
      "cell_type": "code",
      "source": [
        "# Iterate over a range of numbers and print them\n",
        "for i in range(1, 11):\n",
        "    print(i)\n"
      ],
      "metadata": {
        "colab": {
          "base_uri": "https://localhost:8080/"
        },
        "id": "68zG-ZACL2bS",
        "outputId": "bc5a2bdc-18a9-46ad-e23a-2df9e9ec7da6"
      },
      "execution_count": 98,
      "outputs": [
        {
          "output_type": "stream",
          "name": "stdout",
          "text": [
            "1\n",
            "2\n",
            "3\n",
            "4\n",
            "5\n",
            "6\n",
            "7\n",
            "8\n",
            "9\n",
            "10\n"
          ]
        }
      ]
    },
    {
      "cell_type": "code",
      "source": [
        "# Find the sum of all numbers in a range\n",
        "print(sum(range(1, 11)))\n"
      ],
      "metadata": {
        "colab": {
          "base_uri": "https://localhost:8080/"
        },
        "id": "AoJe8Ig6MWZp",
        "outputId": "69063679-906a-4ec6-cfaa-795cd26c59c2"
      },
      "execution_count": 100,
      "outputs": [
        {
          "output_type": "stream",
          "name": "stdout",
          "text": [
            "55\n"
          ]
        }
      ]
    },
    {
      "cell_type": "code",
      "source": [
        "# Print all even numbers in a given range\n",
        "for i in range(1, 11):\n",
        "    if i % 2 == 0:\n",
        "        print(i)\n"
      ],
      "metadata": {
        "colab": {
          "base_uri": "https://localhost:8080/"
        },
        "id": "TqLoNNNpMbGW",
        "outputId": "b8a5e677-3bd1-48d4-b7f8-596531ecc63b"
      },
      "execution_count": 102,
      "outputs": [
        {
          "output_type": "stream",
          "name": "stdout",
          "text": [
            "2\n",
            "4\n",
            "6\n",
            "8\n",
            "10\n"
          ]
        }
      ]
    },
    {
      "cell_type": "code",
      "source": [
        "# Print all odd numbers in a given range\n",
        "for i in range(1, 11):\n",
        "    if i % 2 != 0:\n",
        "        print(i)\n"
      ],
      "metadata": {
        "colab": {
          "base_uri": "https://localhost:8080/"
        },
        "id": "HlbIjb5UMcTK",
        "outputId": "eb1d7423-1516-4d08-834e-e0b3205ab2ed"
      },
      "execution_count": 104,
      "outputs": [
        {
          "output_type": "stream",
          "name": "stdout",
          "text": [
            "1\n",
            "3\n",
            "5\n",
            "7\n",
            "9\n"
          ]
        }
      ]
    },
    {
      "cell_type": "code",
      "source": [
        "# Find the average of all numbers in a range\n",
        "range_list = list(range(1, 11))\n",
        "print(sum(range_list) / len(range_list))\n"
      ],
      "metadata": {
        "colab": {
          "base_uri": "https://localhost:8080/"
        },
        "id": "3sUsRuAwMm4T",
        "outputId": "98b870d4-b397-4efe-e1bd-e31404f5df18"
      },
      "execution_count": 106,
      "outputs": [
        {
          "output_type": "stream",
          "name": "stdout",
          "text": [
            "5.5\n"
          ]
        }
      ]
    },
    {
      "cell_type": "code",
      "source": [
        "# Check if a number is present in a given range\n",
        "num = 5\n",
        "if num in range(1, 11):\n",
        "    print(f\"{num} is in the range.\")\n",
        "else:\n",
        "    print(f\"{num} is not in the range.\")\n"
      ],
      "metadata": {
        "colab": {
          "base_uri": "https://localhost:8080/"
        },
        "id": "sT0ktqB4Mu0g",
        "outputId": "638f9039-a52d-441a-aa52-b50e56caf6bf"
      },
      "execution_count": 108,
      "outputs": [
        {
          "output_type": "stream",
          "name": "stdout",
          "text": [
            "5 is in the range.\n"
          ]
        }
      ]
    },
    {
      "cell_type": "code",
      "source": [
        "# Reverse a range of numbers and print them\n",
        "for i in reversed(range(1, 11)):\n",
        "    print(i)\n"
      ],
      "metadata": {
        "colab": {
          "base_uri": "https://localhost:8080/"
        },
        "id": "uTFO6MkPMy2E",
        "outputId": "d00008e6-408c-4907-dbbd-2dd7e1f0ba70"
      },
      "execution_count": 110,
      "outputs": [
        {
          "output_type": "stream",
          "name": "stdout",
          "text": [
            "10\n",
            "9\n",
            "8\n",
            "7\n",
            "6\n",
            "5\n",
            "4\n",
            "3\n",
            "2\n",
            "1\n"
          ]
        }
      ]
    },
    {
      "cell_type": "code",
      "source": [
        "# Find the product of all numbers in a range\n",
        "product = 1\n",
        "for i in range(1, 11):\n",
        "    product *= i\n",
        "print(product)\n"
      ],
      "metadata": {
        "colab": {
          "base_uri": "https://localhost:8080/"
        },
        "id": "ZgTrGzbiM26d",
        "outputId": "406b4ccf-bfe8-45ae-c163-c7e751234368"
      },
      "execution_count": 112,
      "outputs": [
        {
          "output_type": "stream",
          "name": "stdout",
          "text": [
            "3628800\n"
          ]
        }
      ]
    },
    {
      "cell_type": "code",
      "source": [
        "# Print the squares of all numbers in a range\n",
        "for i in range(1, 11):\n",
        "    print(i**2)\n"
      ],
      "metadata": {
        "colab": {
          "base_uri": "https://localhost:8080/"
        },
        "id": "cZVLw2eDM8X1",
        "outputId": "b4897a49-2918-41b4-8eba-5abbd7d8ec38"
      },
      "execution_count": 115,
      "outputs": [
        {
          "output_type": "stream",
          "name": "stdout",
          "text": [
            "1\n",
            "4\n",
            "9\n",
            "16\n",
            "25\n",
            "36\n",
            "49\n",
            "64\n",
            "81\n",
            "100\n"
          ]
        }
      ]
    },
    {
      "cell_type": "code",
      "source": [
        "# Print the cube of all numbers in a range\n",
        "for i in range(1, 11):\n",
        "    print(i**3)\n"
      ],
      "metadata": {
        "colab": {
          "base_uri": "https://localhost:8080/"
        },
        "id": "16rhy35PNDGX",
        "outputId": "a46f49fc-6e72-4dda-cb54-e64dc0f3df41"
      },
      "execution_count": 118,
      "outputs": [
        {
          "output_type": "stream",
          "name": "stdout",
          "text": [
            "1\n",
            "8\n",
            "27\n",
            "64\n",
            "125\n",
            "216\n",
            "343\n",
            "512\n",
            "729\n",
            "1000\n"
          ]
        }
      ]
    },
    {
      "cell_type": "code",
      "source": [
        "# Positive, Negative, or Zero\n",
        "num = 5\n",
        "if num > 0:\n",
        "    print(\"Positive\")\n"
      ],
      "metadata": {
        "colab": {
          "base_uri": "https://localhost:8080/"
        },
        "id": "abhpdeiSNpzg",
        "outputId": "6eb943f6-dd58-416e-b9ed-7fd578926e90"
      },
      "execution_count": 160,
      "outputs": [
        {
          "output_type": "stream",
          "name": "stdout",
          "text": [
            "Positive\n"
          ]
        }
      ]
    },
    {
      "cell_type": "code",
      "source": [
        "# Even or Odd\n",
        "num = 4\n",
        "if num % 2 == 0:\n",
        "    print(\"Even\")\n",
        "else:\n",
        "    print(\"Odd\")\n"
      ],
      "metadata": {
        "colab": {
          "base_uri": "https://localhost:8080/"
        },
        "id": "VJ4VqfobNtrz",
        "outputId": "1e72b64a-2f6b-4790-e2eb-c11161e7c6ec"
      },
      "execution_count": 122,
      "outputs": [
        {
          "output_type": "stream",
          "name": "stdout",
          "text": [
            "Even\n"
          ]
        }
      ]
    },
    {
      "cell_type": "code",
      "source": [
        "# Leap Year Check\n",
        "year = 2020\n",
        "if (year % 4 == 0 and year % 100 != 0) or (year % 400 == 0):\n",
        "    print(\"Leap Year\")\n",
        "else:\n",
        "    print(\"Not Leap Year\")\n"
      ],
      "metadata": {
        "colab": {
          "base_uri": "https://localhost:8080/"
        },
        "id": "IbJliDD1Nu2w",
        "outputId": "7a910243-5d12-4155-c5ee-abf8828c28b6"
      },
      "execution_count": 124,
      "outputs": [
        {
          "output_type": "stream",
          "name": "stdout",
          "text": [
            "Leap Year\n"
          ]
        }
      ]
    },
    {
      "cell_type": "code",
      "source": [
        "# Maximum of Three Numbers\n",
        "a, b, c = 5, 7, 2\n",
        "if a >= b and a >= c:\n",
        "    print(\"Max is\", a)\n",
        "elif b >= a and b >= c:\n",
        "    print(\"Max is\", b)\n",
        "else:\n",
        "    print(\"Max is\", c)\n"
      ],
      "metadata": {
        "colab": {
          "base_uri": "https://localhost:8080/"
        },
        "id": "3jGsptW2Nx8c",
        "outputId": "c893dab0-9b08-4576-d02f-edfc88fd8730"
      },
      "execution_count": 126,
      "outputs": [
        {
          "output_type": "stream",
          "name": "stdout",
          "text": [
            "Max is 7\n"
          ]
        }
      ]
    },
    {
      "cell_type": "code",
      "source": [
        "# Check Prime Number\n",
        "num = 7\n",
        "if num > 1:\n",
        "    for i in range(2, num):\n",
        "        if (num % i) == 0:\n",
        "            print(num, \"is not a prime number\")\n",
        "            break\n",
        "    else:\n",
        "        print(num, \"is a prime number\")\n",
        "else:\n",
        "    print(num, \"is not a prime number\")\n"
      ],
      "metadata": {
        "colab": {
          "base_uri": "https://localhost:8080/"
        },
        "id": "jPKmanlRN3Qr",
        "outputId": "2bb5b042-b48c-411e-cc84-e6ed6a000e37"
      },
      "execution_count": 128,
      "outputs": [
        {
          "output_type": "stream",
          "name": "stdout",
          "text": [
            "7 is a prime number\n"
          ]
        }
      ]
    },
    {
      "cell_type": "code",
      "source": [
        "# Divisible by 3 and 5\n",
        "num = 15\n",
        "if num % 3 == 0 and num % 5 == 0:\n",
        "    print(\"Divisible by both 3 and 5\")\n",
        "else:\n",
        "    print(\"Not divisible by both 3 and 5\")\n"
      ],
      "metadata": {
        "colab": {
          "base_uri": "https://localhost:8080/"
        },
        "id": "gD8bsb7fN6VE",
        "outputId": "435902e1-7643-4652-fb0b-d152a5b365f1"
      },
      "execution_count": 131,
      "outputs": [
        {
          "output_type": "stream",
          "name": "stdout",
          "text": [
            "Divisible by both 3 and 5\n"
          ]
        }
      ]
    },
    {
      "cell_type": "code",
      "source": [
        "# Vowel or Consonant\n",
        "ch = 'a'\n",
        "if ch in 'aeiou':\n",
        "    print(\"Vowel\")\n",
        "else:\n",
        "    print(\"Consonant\")\n"
      ],
      "metadata": {
        "colab": {
          "base_uri": "https://localhost:8080/"
        },
        "id": "ZQ3D21xTOBEf",
        "outputId": "feb82df8-2a89-4045-ebef-5b3756dbcbf7"
      },
      "execution_count": 133,
      "outputs": [
        {
          "output_type": "stream",
          "name": "stdout",
          "text": [
            "Vowel\n"
          ]
        }
      ]
    },
    {
      "cell_type": "code",
      "source": [
        "# Palindrome String Check\n",
        "s = \"radar\"\n",
        "if s == s[::-1]:\n",
        "    print(\"Palindrome\")\n",
        "else:\n",
        "    print(\"Not Palindrome\")\n"
      ],
      "metadata": {
        "colab": {
          "base_uri": "https://localhost:8080/"
        },
        "id": "3y5sIvZlODXB",
        "outputId": "9c32b5e2-c0bd-47ee-a2f5-a3c46e4a668a"
      },
      "execution_count": 135,
      "outputs": [
        {
          "output_type": "stream",
          "name": "stdout",
          "text": [
            "Palindrome\n"
          ]
        }
      ]
    },
    {
      "cell_type": "code",
      "source": [
        "# Largest Among Three Numbers (Nested If-Else)\n",
        "a, b, c = 5, 7, 2\n",
        "if a > b:\n",
        "    if a > c:\n",
        "        print(\"Largest is\", a)\n",
        "    else:\n",
        "        print(\"Largest is\", c)\n",
        "else:\n",
        "    if b > c:\n",
        "        print(\"Largest is\", b)\n",
        "    else:\n",
        "        print(\"Largest is\", c)\n"
      ],
      "metadata": {
        "colab": {
          "base_uri": "https://localhost:8080/"
        },
        "id": "_A8BwkX6OHwZ",
        "outputId": "705aa457-d6a5-44ff-9d90-0e1b706f84b3"
      },
      "execution_count": 137,
      "outputs": [
        {
          "output_type": "stream",
          "name": "stdout",
          "text": [
            "Largest is 7\n"
          ]
        }
      ]
    },
    {
      "cell_type": "code",
      "source": [
        "# Triangle Type Based on Sides\n",
        "a, b, c = 5, 5, 5\n",
        "if a == b and b == c:\n",
        "    print(\"Equilateral Triangle\")\n",
        "elif a == b or b == c or a == c:\n",
        "    print(\"Isosceles Triangle\")\n",
        "else:\n",
        "    print(\"Scalene Triangle\")\n"
      ],
      "metadata": {
        "colab": {
          "base_uri": "https://localhost:8080/"
        },
        "id": "duOHcepWOJRF",
        "outputId": "b9237507-20d9-477d-aa3f-13d570344288"
      },
      "execution_count": 139,
      "outputs": [
        {
          "output_type": "stream",
          "name": "stdout",
          "text": [
            "Equilateral Triangle\n"
          ]
        }
      ]
    },
    {
      "cell_type": "markdown",
      "source": [
        "For loop exercises\n"
      ],
      "metadata": {
        "id": "yF2vwctmPMCK"
      }
    },
    {
      "cell_type": "code",
      "source": [
        "# Print numbers from 1 to 10\n",
        "for i in range(1, 11):\n",
        "    print(i)\n"
      ],
      "metadata": {
        "colab": {
          "base_uri": "https://localhost:8080/"
        },
        "id": "jVUgcJ0OPPSy",
        "outputId": "269b44ac-bbe4-4ea7-c1cd-ea1b1c1a844d"
      },
      "execution_count": 141,
      "outputs": [
        {
          "output_type": "stream",
          "name": "stdout",
          "text": [
            "1\n",
            "2\n",
            "3\n",
            "4\n",
            "5\n",
            "6\n",
            "7\n",
            "8\n",
            "9\n",
            "10\n"
          ]
        }
      ]
    },
    {
      "cell_type": "code",
      "source": [
        "# Calculate the sum of all numbers in a list\n",
        "numbers = [1, 2, 3, 4, 5]\n",
        "total = 0\n",
        "for num in numbers:\n",
        "    total += num\n",
        "print(total)\n"
      ],
      "metadata": {
        "colab": {
          "base_uri": "https://localhost:8080/"
        },
        "id": "WNHm8xCPPTlA",
        "outputId": "5adf312f-4e2e-413d-b734-d9eacf02b7ec"
      },
      "execution_count": 143,
      "outputs": [
        {
          "output_type": "stream",
          "name": "stdout",
          "text": [
            "15\n"
          ]
        }
      ]
    },
    {
      "cell_type": "code",
      "source": [
        "# Find the factorial of a number\n",
        "num = 5\n",
        "factorial = 1\n",
        "for i in range(1, num + 1):\n",
        "    factorial *= i\n",
        "print(factorial)\n"
      ],
      "metadata": {
        "colab": {
          "base_uri": "https://localhost:8080/"
        },
        "id": "mZyTHFLQPWaE",
        "outputId": "82e039fb-45ac-459d-c3c9-8b004ccfef48"
      },
      "execution_count": 145,
      "outputs": [
        {
          "output_type": "stream",
          "name": "stdout",
          "text": [
            "120\n"
          ]
        }
      ]
    },
    {
      "cell_type": "code",
      "source": [
        "# Print all even numbers between 1 and 50\n",
        "for i in range(1, 51):\n",
        "    if i % 2 == 0:\n",
        "        print(i)\n"
      ],
      "metadata": {
        "colab": {
          "base_uri": "https://localhost:8080/"
        },
        "id": "S0y40Ya2PZP0",
        "outputId": "ba31e349-ca84-47d4-f818-24cb4902c93f"
      },
      "execution_count": 147,
      "outputs": [
        {
          "output_type": "stream",
          "name": "stdout",
          "text": [
            "2\n",
            "4\n",
            "6\n",
            "8\n",
            "10\n",
            "12\n",
            "14\n",
            "16\n",
            "18\n",
            "20\n",
            "22\n",
            "24\n",
            "26\n",
            "28\n",
            "30\n",
            "32\n",
            "34\n",
            "36\n",
            "38\n",
            "40\n",
            "42\n",
            "44\n",
            "46\n",
            "48\n",
            "50\n"
          ]
        }
      ]
    },
    {
      "cell_type": "code",
      "source": [
        "# Print each character of a string\n",
        "for char in \"Hello\":\n",
        "    print(char)\n"
      ],
      "metadata": {
        "colab": {
          "base_uri": "https://localhost:8080/"
        },
        "id": "HAGg0TkWPcBa",
        "outputId": "4bcde931-3001-4a9f-837c-23cad7559396"
      },
      "execution_count": 149,
      "outputs": [
        {
          "output_type": "stream",
          "name": "stdout",
          "text": [
            "H\n",
            "e\n",
            "l\n",
            "l\n",
            "o\n"
          ]
        }
      ]
    },
    {
      "cell_type": "code",
      "source": [
        "# Print each element of a list of tuples\n",
        "tuples = [(1, 2), (3, 4), (5, 6)]\n",
        "for a, b in tuples:\n",
        "    print(a, b)\n"
      ],
      "metadata": {
        "colab": {
          "base_uri": "https://localhost:8080/"
        },
        "id": "dBFfZAoFPxhc",
        "outputId": "e3b5696e-7ae9-46f4-8409-3a8c77a4a99a"
      },
      "execution_count": 162,
      "outputs": [
        {
          "output_type": "stream",
          "name": "stdout",
          "text": [
            "1 2\n",
            "3 4\n",
            "5 6\n"
          ]
        }
      ]
    },
    {
      "cell_type": "markdown",
      "source": [
        "while"
      ],
      "metadata": {
        "id": "HIuEoE50SdhO"
      }
    },
    {
      "cell_type": "code",
      "source": [
        "# Common Elements Between Two Lists\n",
        "list1 = [1, 2, 3, 4]\n",
        "list2 = [3, 4, 5, 6]\n",
        "common_elements = set(list1).intersection(list2)\n",
        "print(\"Common elements:\", common_elements)\n"
      ],
      "metadata": {
        "colab": {
          "base_uri": "https://localhost:8080/"
        },
        "id": "nKqZT4LITzmC",
        "outputId": "bf556651-e9f6-4161-ab75-be2799244e10"
      },
      "execution_count": 164,
      "outputs": [
        {
          "output_type": "stream",
          "name": "stdout",
          "text": [
            "Common elements: {3, 4}\n"
          ]
        }
      ]
    },
    {
      "cell_type": "markdown",
      "source": [
        "While"
      ],
      "metadata": {
        "id": "leTHcXzyVwC0"
      }
    },
    {
      "cell_type": "code",
      "source": [
        "# Iterate Over a List of Tuples Using a While Loop\n",
        "tuples_list = [(1, 'a'), (2, 'b'), (3, 'c')]\n",
        "i = 0\n",
        "while i < len(tuples_list):\n",
        "    print(\"Tuple\", i, \":\", tuples_list[i])\n",
        "    i += 1\n"
      ],
      "metadata": {
        "colab": {
          "base_uri": "https://localhost:8080/"
        },
        "id": "JqTx88V7Vu3F",
        "outputId": "b1aebdcb-910e-4ea5-9ec2-4fdb52c21f22"
      },
      "execution_count": 167,
      "outputs": [
        {
          "output_type": "stream",
          "name": "stdout",
          "text": [
            "Tuple 0 : (1, 'a')\n",
            "Tuple 1 : (2, 'b')\n",
            "Tuple 2 : (3, 'c')\n"
          ]
        }
      ]
    },
    {
      "cell_type": "code",
      "source": [
        "# Find the Largest Element in a List Using a While Loop\n",
        "numbers = [12, 75, 43, 92, 30]\n",
        "largest = numbers[0]\n",
        "i = 1\n",
        "while i < len(numbers):\n",
        "    if numbers[i] > largest:\n",
        "        largest = numbers[i]\n",
        "    i += 1\n",
        "print(\"Largest number:\", largest)\n"
      ],
      "metadata": {
        "colab": {
          "base_uri": "https://localhost:8080/"
        },
        "id": "xPid2d_kV27K",
        "outputId": "e89dc49a-af01-4ea5-95d1-647d89ce5745"
      },
      "execution_count": 169,
      "outputs": [
        {
          "output_type": "stream",
          "name": "stdout",
          "text": [
            "Largest number: 92\n"
          ]
        }
      ]
    },
    {
      "cell_type": "code",
      "source": [
        "# Check if All Elements in a List are Even Using a While Loop\n",
        "numbers = [2, 4, 6, 8, 10]\n",
        "i = 0\n",
        "all_even = True\n",
        "while i < len(numbers):\n",
        "    if numbers[i] % 2 != 0:\n",
        "        all_even = False\n",
        "        break\n",
        "    i += 1\n",
        "print(\"All elements are even:\", all_even)\n"
      ],
      "metadata": {
        "colab": {
          "base_uri": "https://localhost:8080/"
        },
        "id": "FsxND-wfWAeX",
        "outputId": "474a0c31-db26-49b2-8116-9f7e209a44e9"
      },
      "execution_count": 171,
      "outputs": [
        {
          "output_type": "stream",
          "name": "stdout",
          "text": [
            "All elements are even: True\n"
          ]
        }
      ]
    },
    {
      "cell_type": "code",
      "source": [
        "# Find Common Elements Between Two Lists Using a While Loop\n",
        "list1 = [1, 2, 3, 4]\n",
        "list2 = [3, 4, 5, 6]\n",
        "i = 0\n",
        "common_elements = set()\n",
        "while i < len(list1):\n",
        "    if list1[i] in list2:\n",
        "        common_elements.add(list1[i])\n",
        "    i += 1\n",
        "print(\"Common elements:\", common_elements)\n"
      ],
      "metadata": {
        "colab": {
          "base_uri": "https://localhost:8080/"
        },
        "id": "Tel1cJXaWEU7",
        "outputId": "28987e7f-d5a6-44e0-85b3-9450b4e17f86"
      },
      "execution_count": 173,
      "outputs": [
        {
          "output_type": "stream",
          "name": "stdout",
          "text": [
            "Common elements: {3, 4}\n"
          ]
        }
      ]
    },
    {
      "cell_type": "code",
      "source": [
        "# Check if All Elements in a List are Even Using a While Loop\n",
        "numbers = [2, 4, 6, 8, 10]\n",
        "i = 0\n",
        "all_even = True\n",
        "while i < len(numbers):\n",
        "    if numbers[i] % 2 != 0:\n",
        "        all_even = False\n",
        "        break\n",
        "    i += 1\n",
        "print(\"All elements are even:\", all_even)\n"
      ],
      "metadata": {
        "colab": {
          "base_uri": "https://localhost:8080/"
        },
        "id": "UTGzdqwBYJlQ",
        "outputId": "3fbf3fd9-1593-415a-d3c6-83a9fa8cd8b2"
      },
      "execution_count": 178,
      "outputs": [
        {
          "output_type": "stream",
          "name": "stdout",
          "text": [
            "All elements are even: True\n"
          ]
        }
      ]
    },
    {
      "cell_type": "code",
      "source": [
        "# Find common elements between two lists using a while loop\n",
        "list1 = [1, 2, 3, 4, 5]\n",
        "list2 = [4, 5, 6, 7]\n",
        "common_elements = []\n",
        "i = 0\n",
        "while i < len(list1):\n",
        "    if list1[i] in list2:\n",
        "        common_elements.append(list1[i])\n",
        "    i += 1\n",
        "print(\"Common elements:\", common_elements)\n"
      ],
      "metadata": {
        "colab": {
          "base_uri": "https://localhost:8080/"
        },
        "id": "_BJgpJnKcHou",
        "outputId": "6bb5c4ca-d228-471c-b555-c172651d136c"
      },
      "execution_count": 180,
      "outputs": [
        {
          "output_type": "stream",
          "name": "stdout",
          "text": [
            "Common elements: [4, 5]\n"
          ]
        }
      ]
    },
    {
      "cell_type": "code",
      "source": [
        "# Calculate the sum of the digits of a number using a while loop\n",
        "num = 1234\n",
        "sum_digits = 0\n",
        "while num > 0:\n",
        "    sum_digits += num % 10\n",
        "    num //= 10\n",
        "print(\"Sum of digits:\", sum_digits)\n"
      ],
      "metadata": {
        "colab": {
          "base_uri": "https://localhost:8080/"
        },
        "id": "6Ia9TPA2cI6A",
        "outputId": "c745753a-ae85-4b77-8ec6-0edfff21ad92"
      },
      "execution_count": 182,
      "outputs": [
        {
          "output_type": "stream",
          "name": "stdout",
          "text": [
            "Sum of digits: 10\n"
          ]
        }
      ]
    },
    {
      "cell_type": "markdown",
      "source": [
        "break"
      ],
      "metadata": {
        "id": "UhmZT5T7cRHx"
      }
    },
    {
      "cell_type": "code",
      "source": [
        "# Find the first occurrence of a number in a list using a for loop and break statement\n",
        "numbers = [1, 3, 7, 8, 7]\n",
        "target = 7\n",
        "for index, number in enumerate(numbers):\n",
        "    if number == target:\n",
        "        print(f\"First occurrence of {target} found at index {index}\")\n",
        "        break\n"
      ],
      "metadata": {
        "colab": {
          "base_uri": "https://localhost:8080/"
        },
        "id": "KZofF0nocMBo",
        "outputId": "7cfb2ff3-dabd-46d8-901e-36f6bcdfb370"
      },
      "execution_count": 184,
      "outputs": [
        {
          "output_type": "stream",
          "name": "stdout",
          "text": [
            "First occurrence of 7 found at index 2\n"
          ]
        }
      ]
    },
    {
      "cell_type": "code",
      "source": [
        "# Search for a specific element in a list using a while loop and break statement\n",
        "elements = ['apple', 'banana', 'cherry']\n",
        "search = 'banana'\n",
        "i = 0\n",
        "while i < len(elements):\n",
        "    if elements[i] == search:\n",
        "        print(f\"{search} found at position {i}\")\n",
        "        break\n",
        "    i += 1\n"
      ],
      "metadata": {
        "colab": {
          "base_uri": "https://localhost:8080/"
        },
        "id": "xNybkBc7cU5B",
        "outputId": "22f06e43-58e0-47a2-bf77-391d353919f8"
      },
      "execution_count": 186,
      "outputs": [
        {
          "output_type": "stream",
          "name": "stdout",
          "text": [
            "banana found at position 1\n"
          ]
        }
      ]
    },
    {
      "cell_type": "code",
      "source": [
        "# Find the prime numbers between 1 and 100 using a for loop and break statement\n",
        "for num in range(2, 101):\n",
        "    for i in range(2, num):\n",
        "        if num % i == 0:\n",
        "            break\n",
        "    else:\n",
        "        print(num, \"is a prime number\")\n"
      ],
      "metadata": {
        "colab": {
          "base_uri": "https://localhost:8080/"
        },
        "id": "PHpGwFL1cWfJ",
        "outputId": "0e44868c-c406-4e3b-9afc-5616502bf876"
      },
      "execution_count": 188,
      "outputs": [
        {
          "output_type": "stream",
          "name": "stdout",
          "text": [
            "2 is a prime number\n",
            "3 is a prime number\n",
            "5 is a prime number\n",
            "7 is a prime number\n",
            "11 is a prime number\n",
            "13 is a prime number\n",
            "17 is a prime number\n",
            "19 is a prime number\n",
            "23 is a prime number\n",
            "29 is a prime number\n",
            "31 is a prime number\n",
            "37 is a prime number\n",
            "41 is a prime number\n",
            "43 is a prime number\n",
            "47 is a prime number\n",
            "53 is a prime number\n",
            "59 is a prime number\n",
            "61 is a prime number\n",
            "67 is a prime number\n",
            "71 is a prime number\n",
            "73 is a prime number\n",
            "79 is a prime number\n",
            "83 is a prime number\n",
            "89 is a prime number\n",
            "97 is a prime number\n"
          ]
        }
      ]
    },
    {
      "cell_type": "code",
      "source": [
        "# Check if a number is present in a list using a while loop and break statement\n",
        "numbers = [5, 8, 12, 15, 22]\n",
        "target = 15\n",
        "i = 0\n",
        "while i < len(numbers):\n",
        "    if numbers[i] == target:\n",
        "        print(f\"{target} found in the list\")\n",
        "        break\n",
        "    i += 1\n"
      ],
      "metadata": {
        "colab": {
          "base_uri": "https://localhost:8080/"
        },
        "id": "qaVpelr0cZkq",
        "outputId": "074d2c3f-9632-4b28-9a70-0943f5a7b181"
      },
      "execution_count": 190,
      "outputs": [
        {
          "output_type": "stream",
          "name": "stdout",
          "text": [
            "15 found in the list\n"
          ]
        }
      ]
    },
    {
      "cell_type": "code",
      "source": [
        "# Find the largest palindrome number in a given range using a for loop and break statement\n",
        "for num in range(100, 0, -1):\n",
        "    if str(num) == str(num)[::-1]:\n",
        "        print(f\"Largest palindrome number is {num}\")\n",
        "        break\n"
      ],
      "metadata": {
        "colab": {
          "base_uri": "https://localhost:8080/"
        },
        "id": "hP8JD1A5ccfp",
        "outputId": "d96505b4-7e18-4261-fd84-cd47e97a10d7"
      },
      "execution_count": 192,
      "outputs": [
        {
          "output_type": "stream",
          "name": "stdout",
          "text": [
            "Largest palindrome number is 99\n"
          ]
        }
      ]
    },
    {
      "cell_type": "code",
      "source": [
        "# Find the first negative number in a list using a while loop and break statement\n",
        "numbers = [3, 5, -1, 7, -4, 9]\n",
        "i = 0\n",
        "while i < len(numbers):\n",
        "    if numbers[i] < 0:\n",
        "        print(f\"First negative number: {numbers[i]}\")\n",
        "        break\n",
        "    i += 1\n"
      ],
      "metadata": {
        "colab": {
          "base_uri": "https://localhost:8080/"
        },
        "id": "4DHKGILocfLW",
        "outputId": "5453dab2-1244-48fe-c963-49174344ca0b"
      },
      "execution_count": 195,
      "outputs": [
        {
          "output_type": "stream",
          "name": "stdout",
          "text": [
            "First negative number: -1\n"
          ]
        }
      ]
    },
    {
      "cell_type": "code",
      "source": [
        "# Print the elements of a list until a specific condition is met using a for loop and break statement\n",
        "elements = [4, 7, 9, 1, 3]\n",
        "for element in elements:\n",
        "    if element > 5:\n",
        "        break\n",
        "    print(element)\n"
      ],
      "metadata": {
        "colab": {
          "base_uri": "https://localhost:8080/"
        },
        "id": "iMuHnvuPch23",
        "outputId": "c268802e-b069-430b-abe8-049529488570"
      },
      "execution_count": 196,
      "outputs": [
        {
          "output_type": "stream",
          "name": "stdout",
          "text": [
            "4\n"
          ]
        }
      ]
    },
    {
      "cell_type": "code",
      "source": [
        "# Search for a specific character in a string using a while loop and break statement\n",
        "text = \"hello world\"\n",
        "search_char = 'w'\n",
        "i = 0\n",
        "while i < len(text):\n",
        "    if text[i] == search_char:\n",
        "        print(f\"Character '{search_char}' found at position {i}\")\n",
        "        break\n",
        "    i += 1\n"
      ],
      "metadata": {
        "colab": {
          "base_uri": "https://localhost:8080/"
        },
        "id": "JIeny5C0cpx3",
        "outputId": "9fc0b549-1f76-4a1b-a151-d3d27388cf4c"
      },
      "execution_count": 198,
      "outputs": [
        {
          "output_type": "stream",
          "name": "stdout",
          "text": [
            "Character 'w' found at position 6\n"
          ]
        }
      ]
    },
    {
      "cell_type": "code",
      "source": [
        "# Find the first occurrence of a vowel in a string using a for loop and break statement\n",
        "string = \"python programming\"\n",
        "vowels = \"aeiou\"\n",
        "for index, char in enumerate(string):\n",
        "    if char in vowels:\n",
        "        print(f\"First vowel '{char}' found at position {index}\")\n",
        "        break\n"
      ],
      "metadata": {
        "colab": {
          "base_uri": "https://localhost:8080/"
        },
        "id": "S4ubyq_PcsiF",
        "outputId": "4a74ee2f-a394-4cf9-8463-41709bc57ee4"
      },
      "execution_count": 200,
      "outputs": [
        {
          "output_type": "stream",
          "name": "stdout",
          "text": [
            "First vowel 'o' found at position 4\n"
          ]
        }
      ]
    },
    {
      "cell_type": "code",
      "source": [
        "# Find the index of the first occurrence of a substring in a string using a while loop and break statement\n",
        "string = \"hello world\"\n",
        "substring = \"world\"\n",
        "index = string.find(substring)\n",
        "if index != -1:\n",
        "    print(f\"Substring '{substring}' found at position {index}\")\n",
        "else:\n",
        "    print(f\"Substring '{substring}' not found\")\n"
      ],
      "metadata": {
        "colab": {
          "base_uri": "https://localhost:8080/"
        },
        "id": "hC0fAHPwc-Ux",
        "outputId": "9f340026-41a4-4a8e-b817-f7e1ba0abc6e"
      },
      "execution_count": 201,
      "outputs": [
        {
          "output_type": "stream",
          "name": "stdout",
          "text": [
            "Substring 'world' found at position 6\n"
          ]
        }
      ]
    },
    {
      "cell_type": "markdown",
      "source": [
        "Continue"
      ],
      "metadata": {
        "id": "bXlCbccQdAv-"
      }
    },
    {
      "cell_type": "code",
      "source": [
        "# Print all the even numbers between 1 and 20 except for the number 10 using a for loop and continue statement\n",
        "for num in range(1, 21):\n",
        "    if num == 10 or num % 2 != 0:\n",
        "        continue\n",
        "    print(num)\n"
      ],
      "metadata": {
        "colab": {
          "base_uri": "https://localhost:8080/"
        },
        "id": "LuV9qwWxdCwC",
        "outputId": "8720ce13-eec9-490c-f8db-7fe2a854a093"
      },
      "execution_count": 203,
      "outputs": [
        {
          "output_type": "stream",
          "name": "stdout",
          "text": [
            "2\n",
            "4\n",
            "6\n",
            "8\n",
            "12\n",
            "14\n",
            "16\n",
            "18\n",
            "20\n"
          ]
        }
      ]
    },
    {
      "cell_type": "code",
      "source": [
        "# Print the elements of a list skipping the negative numbers using a while loop and continue statement\n",
        "numbers = [4, -1, 7, -3, 9]\n",
        "i = 0\n",
        "while i < len(numbers):\n",
        "    if numbers[i] < 0:\n",
        "        i += 1\n",
        "        continue\n",
        "    print(numbers[i])\n",
        "    i += 1\n"
      ],
      "metadata": {
        "colab": {
          "base_uri": "https://localhost:8080/"
        },
        "id": "PexNKhludH5l",
        "outputId": "216023a3-7cd0-4f27-d036-efd26d94505e"
      },
      "execution_count": 205,
      "outputs": [
        {
          "output_type": "stream",
          "name": "stdout",
          "text": [
            "4\n",
            "7\n",
            "9\n"
          ]
        }
      ]
    },
    {
      "cell_type": "code",
      "source": [
        "# Print the first 10 multiples of 3 except for the number 9 using a for loop and continue statement\n",
        "for num in range(1, 11):\n",
        "    multiple = num * 3\n",
        "    if multiple == 9:\n",
        "        continue\n",
        "    print(multiple)\n"
      ],
      "metadata": {
        "colab": {
          "base_uri": "https://localhost:8080/"
        },
        "id": "iCcmBEBfdJEw",
        "outputId": "fc4fc090-5cda-4b2b-9ccd-3541795284d4"
      },
      "execution_count": 207,
      "outputs": [
        {
          "output_type": "stream",
          "name": "stdout",
          "text": [
            "3\n",
            "6\n",
            "12\n",
            "15\n",
            "18\n",
            "21\n",
            "24\n",
            "27\n",
            "30\n"
          ]
        }
      ]
    },
    {
      "cell_type": "code",
      "source": [
        "# Iterate over a string and print only the consonants using a for loop and continue statement\n",
        "text = \"Hello World\"\n",
        "vowels = \"aeiouAEIOU\"\n",
        "for char in text:\n",
        "    if char in vowels:\n",
        "        continue\n",
        "    print(char)\n"
      ],
      "metadata": {
        "colab": {
          "base_uri": "https://localhost:8080/"
        },
        "id": "Pi8X_KU5dMJK",
        "outputId": "700e85b2-558b-4942-854b-299c9f2c8c36"
      },
      "execution_count": 209,
      "outputs": [
        {
          "output_type": "stream",
          "name": "stdout",
          "text": [
            "H\n",
            "l\n",
            "l\n",
            " \n",
            "W\n",
            "r\n",
            "l\n",
            "d\n"
          ]
        }
      ]
    },
    {
      "cell_type": "code",
      "source": [
        "# Print the elements of a list skipping the even numbers using a while loop and continue statement\n",
        "numbers = [1, 2, 3, 4, 5, 6, 7, 8, 9]\n",
        "i = 0\n",
        "while i < len(numbers):\n",
        "    if numbers[i] % 2 == 0:\n",
        "        i += 1\n",
        "        continue\n",
        "    print(numbers[i])\n",
        "    i += 1\n"
      ],
      "metadata": {
        "colab": {
          "base_uri": "https://localhost:8080/"
        },
        "id": "AvWawI1AdO7t",
        "outputId": "2522f8fc-7361-4868-fb5c-233db0190e6a"
      },
      "execution_count": 211,
      "outputs": [
        {
          "output_type": "stream",
          "name": "stdout",
          "text": [
            "1\n",
            "3\n",
            "5\n",
            "7\n",
            "9\n"
          ]
        }
      ]
    },
    {
      "cell_type": "code",
      "source": [
        "# Find the sum of all numbers between 1 and 100, excluding the multiples of 5 using a for loop and continue statement\n",
        "total = 0\n",
        "for num in range(1, 101):\n",
        "    if num % 5 == 0:\n",
        "        continue\n",
        "    total += num\n",
        "print(\"Sum excluding multiples of 5:\", total)\n"
      ],
      "metadata": {
        "colab": {
          "base_uri": "https://localhost:8080/"
        },
        "id": "TIYKqmbadRzb",
        "outputId": "db43a976-6f1d-465f-f35d-257cd9b834e7"
      },
      "execution_count": 213,
      "outputs": [
        {
          "output_type": "stream",
          "name": "stdout",
          "text": [
            "Sum excluding multiples of 5: 4000\n"
          ]
        }
      ]
    },
    {
      "cell_type": "code",
      "source": [
        "# Print the uppercase letters in a string using a while loop and continue statement\n",
        "string = \"Hello World\"\n",
        "i = 0\n",
        "while i < len(string):\n",
        "    if string[i].islower():\n",
        "        i += 1\n",
        "        continue\n",
        "    print(string[i])\n",
        "    i += 1\n"
      ],
      "metadata": {
        "colab": {
          "base_uri": "https://localhost:8080/"
        },
        "id": "oF8R2RIfdUHV",
        "outputId": "c050a7b3-9239-447a-c77c-148f7b169132"
      },
      "execution_count": 216,
      "outputs": [
        {
          "output_type": "stream",
          "name": "stdout",
          "text": [
            "H\n",
            " \n",
            "W\n"
          ]
        }
      ]
    },
    {
      "cell_type": "code",
      "source": [
        "# Print the elements of a list skipping the elements divisible by 3 using a for loop and continue statement\n",
        "numbers = [1, 2, 3, 4, 5, 6, 7, 8, 9]\n",
        "for num in numbers:\n",
        "    if num % 3 == 0:\n",
        "        continue\n",
        "    print(num)\n"
      ],
      "metadata": {
        "colab": {
          "base_uri": "https://localhost:8080/"
        },
        "id": "KrpWcKLrdmM1",
        "outputId": "1512fc72-1be3-4e10-9073-ab6e391c01e9"
      },
      "execution_count": 218,
      "outputs": [
        {
          "output_type": "stream",
          "name": "stdout",
          "text": [
            "1\n",
            "2\n",
            "4\n",
            "5\n",
            "7\n",
            "8\n"
          ]
        }
      ]
    },
    {
      "cell_type": "code",
      "source": [
        "# Iterate over a list of tuples and print only the tuples with a specific condition using a while loop and continue statement\n",
        "tuples = [(1, 'a'), (2, 'b'), (3, 'c'), (4, 'd')]\n",
        "i = 0\n",
        "while i < len(tuples):\n",
        "    if tuples[i][0] % 2 != 0:  # Skip tuples where the first element is odd\n",
        "        i += 1\n",
        "        continue\n",
        "    print(tuples[i])\n",
        "    i += 1\n"
      ],
      "metadata": {
        "colab": {
          "base_uri": "https://localhost:8080/"
        },
        "id": "TNnswG7YdsUx",
        "outputId": "6e459a9f-bdee-491b-b294-dda2de2025c1"
      },
      "execution_count": 221,
      "outputs": [
        {
          "output_type": "stream",
          "name": "stdout",
          "text": [
            "(2, 'b')\n",
            "(4, 'd')\n"
          ]
        }
      ]
    },
    {
      "cell_type": "code",
      "source": [
        "# Print the numbers from 1 to 50, skipping the multiples of 7 using a for loop and continue statement\n",
        "for num in range(1, 51):\n",
        "    if num % 7 == 0:\n",
        "        continue\n",
        "    print(num)\n"
      ],
      "metadata": {
        "colab": {
          "base_uri": "https://localhost:8080/"
        },
        "id": "7SRNVQ3Odzds",
        "outputId": "337ad5ca-20d4-40f2-8830-b41fd44e83ba"
      },
      "execution_count": 222,
      "outputs": [
        {
          "output_type": "stream",
          "name": "stdout",
          "text": [
            "1\n",
            "2\n",
            "3\n",
            "4\n",
            "5\n",
            "6\n",
            "8\n",
            "9\n",
            "10\n",
            "11\n",
            "12\n",
            "13\n",
            "15\n",
            "16\n",
            "17\n",
            "18\n",
            "19\n",
            "20\n",
            "22\n",
            "23\n",
            "24\n",
            "25\n",
            "26\n",
            "27\n",
            "29\n",
            "30\n",
            "31\n",
            "32\n",
            "33\n",
            "34\n",
            "36\n",
            "37\n",
            "38\n",
            "39\n",
            "40\n",
            "41\n",
            "43\n",
            "44\n",
            "45\n",
            "46\n",
            "47\n",
            "48\n",
            "50\n"
          ]
        }
      ]
    }
  ]
}
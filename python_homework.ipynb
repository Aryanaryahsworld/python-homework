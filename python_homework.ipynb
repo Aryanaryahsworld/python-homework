{
  "nbformat": 4,
  "nbformat_minor": 0,
  "metadata": {
    "colab": {
      "provenance": []
    },
    "kernelspec": {
      "name": "python3",
      "display_name": "Python 3"
    },
    "language_info": {
      "name": "python"
    }
  },
  "cells": [
    {
      "cell_type": "code",
      "source": [
        "def remove_duplicates(input_str):\n",
        "    words = input_str.split()\n",
        "    seen = set()\n",
        "    result = [word for word in words if not (word in seen or seen.add(word))]\n",
        "    return ' '.join(result)\n",
        "\n",
        "# Example usage\n",
        "input_str = \"Python is great and Java is also great\"\n",
        "print(remove_duplicates(input_str))\n"
      ],
      "metadata": {
        "colab": {
          "base_uri": "https://localhost:8080/"
        },
        "id": "MHk8LLdqxTH9",
        "outputId": "06b16b56-9df4-457c-8af3-173f7b55250f"
      },
      "execution_count": 30,
      "outputs": [
        {
          "output_type": "stream",
          "name": "stdout",
          "text": [
            "Python is great and Java also\n"
          ]
        }
      ]
    },
    {
      "cell_type": "code",
      "source": [
        "def count_types(str1):\n",
        "    letters, digits, special = 0, 0, 0\n",
        "    for char in str1:\n",
        "        if char.isalpha():\n",
        "            letters += 1\n",
        "        elif char.isdigit():\n",
        "            digits += 1\n",
        "        else:\n",
        "            special += 1\n",
        "    return letters, digits, special\n",
        "\n",
        "# Test the function\n",
        "print(count_types(\"P@#yn26at^&i5ve\"))\n"
      ],
      "metadata": {
        "colab": {
          "base_uri": "https://localhost:8080/"
        },
        "id": "W6y4cOMrkBZq",
        "outputId": "dd3515d2-e2ad-4b49-aa80-a7f115851fe5"
      },
      "execution_count": 3,
      "outputs": [
        {
          "output_type": "stream",
          "name": "stdout",
          "text": [
            "(8, 3, 4)\n"
          ]
        }
      ]
    },
    {
      "cell_type": "code",
      "source": [
        "def count_case(sample_str):\n",
        "    upper, lower = 0, 0\n",
        "    for char in sample_str:\n",
        "        if char.isupper():\n",
        "            upper += 1\n",
        "        elif char.islower():\n",
        "            lower += 1\n",
        "    return upper, lower\n",
        "\n",
        "# Test the function\n",
        "sample_str = \"The quick Brow Fox\"\n",
        "upper, lower = count_case(sample_str)\n",
        "print(f\"Upper case characters: {upper}, Lower case Characters: {lower}\")\n"
      ],
      "metadata": {
        "colab": {
          "base_uri": "https://localhost:8080/"
        },
        "id": "vfh-EgnOk8Ap",
        "outputId": "5ddef496-aa70-4ffe-8076-68f6d452f288"
      },
      "execution_count": 5,
      "outputs": [
        {
          "output_type": "stream",
          "name": "stdout",
          "text": [
            "Upper case characters: 3, Lower case Characters: 12\n"
          ]
        }
      ]
    },
    {
      "cell_type": "code",
      "source": [
        "def reverse_name(name):\n",
        "    parts = name.split()\n",
        "    reversed_parts = parts[::-1]\n",
        "    return ' '.join(reversed_parts)\n",
        "\n",
        "# Test the function\n",
        "name = 'Ajit Pawar'\n",
        "print(reverse_name(name))\n"
      ],
      "metadata": {
        "colab": {
          "base_uri": "https://localhost:8080/"
        },
        "id": "O-pUUO1ZlSuH",
        "outputId": "5bc46fcc-7ce2-4823-b50d-7030a7d6ae46"
      },
      "execution_count": 29,
      "outputs": [
        {
          "output_type": "stream",
          "name": "stdout",
          "text": [
            "Pawar Ajit\n"
          ]
        }
      ]
    },
    {
      "cell_type": "code",
      "source": [
        "def reverse_individual_parts(name):\n",
        "    parts = name.split()\n",
        "    reversed_parts = [part[::-1] for part in parts]\n",
        "    return ' '.join(reversed_parts)\n",
        "\n",
        "# Test the function\n",
        "name = 'Ajit Pawar'\n",
        "print(reverse_individual_parts(name))\n"
      ],
      "metadata": {
        "colab": {
          "base_uri": "https://localhost:8080/"
        },
        "id": "yst2olKUlWOS",
        "outputId": "f51a66a7-86d8-4c59-bd67-587e8c14b6c6"
      },
      "execution_count": 28,
      "outputs": [
        {
          "output_type": "stream",
          "name": "stdout",
          "text": [
            "tijA rawaP\n"
          ]
        }
      ]
    },
    {
      "cell_type": "code",
      "source": [
        "def count_occurrences(str1):\n",
        "    return {char: str1.count(char) for char in set(str1)}\n",
        "\n",
        "# Test the function\n",
        "str1 = \"Apple\"\n",
        "print(count_occurrences(str1))\n"
      ],
      "metadata": {
        "colab": {
          "base_uri": "https://localhost:8080/"
        },
        "id": "UxoZ9nBLleA6",
        "outputId": "70fbb19e-2dd0-48ab-f1a0-0ad5ab1babb9"
      },
      "execution_count": 27,
      "outputs": [
        {
          "output_type": "stream",
          "name": "stdout",
          "text": [
            "{'p': 2, 'e': 1, 'A': 1, 'l': 1}\n"
          ]
        }
      ]
    },
    {
      "cell_type": "code",
      "source": [
        "def remove_empty_strings(str_list):\n",
        "    return [str for str in str_list if str]\n",
        "\n",
        "# Test the function\n",
        "str_list = [\"Emma\", \"Jon\", \"\", \"Kelly\", None, \"Eric\", \"\"]\n",
        "print(remove_empty_strings(str_list))\n"
      ],
      "metadata": {
        "colab": {
          "base_uri": "https://localhost:8080/"
        },
        "id": "snDZJkZflmY5",
        "outputId": "d4ae3459-24a4-48e0-cf0b-771b2d76e3d1"
      },
      "execution_count": 26,
      "outputs": [
        {
          "output_type": "stream",
          "name": "stdout",
          "text": [
            "['Emma', 'Jon', 'Kelly', 'Eric']\n"
          ]
        }
      ]
    },
    {
      "cell_type": "code",
      "source": [
        "def add_lists_indexwise(list1, list2):\n",
        "    from itertools import zip_longest\n",
        "    return [a + b for a, b in zip_longest(list1, list2, fillvalue='')]\n",
        "\n",
        "# Test the function\n",
        "list1 = [\"M\", \"na\", \"i\", \"Ke\"]\n",
        "list2 = [\"y\", \"me\", \"s\", \"lly\"]\n",
        "print(add_lists_indexwise(list1, list2))\n"
      ],
      "metadata": {
        "colab": {
          "base_uri": "https://localhost:8080/"
        },
        "id": "9-hZfTgTlrnY",
        "outputId": "b21bf9c0-c663-4d95-df06-0f6ee115b71a"
      },
      "execution_count": 25,
      "outputs": [
        {
          "output_type": "stream",
          "name": "stdout",
          "text": [
            "['My', 'name', 'is', 'Kelly']\n"
          ]
        }
      ]
    },
    {
      "cell_type": "code",
      "source": [
        "def alternatelist(list1, list2):\n",
        "    result = []\n",
        "    for item1 in list1:\n",
        "        for item2 in list2:\n",
        "            result.append(item1 + item2)\n",
        "    return result\n",
        "\n",
        "# Test the function\n",
        "list1 = [\"Hello \", \"take \"]\n",
        "list2 = [\"Dear\", \"Sir\"]\n",
        "print(alternatelist(list1, list2))\n"
      ],
      "metadata": {
        "colab": {
          "base_uri": "https://localhost:8080/"
        },
        "id": "A4B97DrSluEe",
        "outputId": "508fa079-32c3-4361-f11b-5991adac5f51"
      },
      "execution_count": 24,
      "outputs": [
        {
          "output_type": "stream",
          "name": "stdout",
          "text": [
            "['Hello Dear', 'Hello Sir', 'take Dear', 'take Sir']\n"
          ]
        }
      ]
    },
    {
      "cell_type": "code",
      "source": [
        "def count_even_odd(numbers):\n",
        "    even_count = sum(1 for num in numbers if num % 2 == 0)\n",
        "    odd_count = sum(1 for num in numbers if num % 2 != 0)\n",
        "    return even_count, odd_count\n",
        "\n",
        "# Test the function\n",
        "numbers = (1, 2, 3, 4, 5, 6, 7, 8, 9)\n",
        "even_count, odd_count = count_even_odd(numbers)\n",
        "print(f\"Number of even numbers: {even_count}, Number of odd numbers: {odd_count}\")\n"
      ],
      "metadata": {
        "colab": {
          "base_uri": "https://localhost:8080/"
        },
        "id": "0KvMIVl1mMb0",
        "outputId": "c17766b8-9ed6-4e2b-ab7d-b6de2f47cff3"
      },
      "execution_count": 22,
      "outputs": [
        {
          "output_type": "stream",
          "name": "stdout",
          "text": [
            "Number of even numbers: 4, Number of odd numbers: 5\n"
          ]
        }
      ]
    },
    {
      "cell_type": "code",
      "source": [
        "def add_item_in_nested_list(list1):\n",
        "    list1[2][2].append(7000)\n",
        "    return list1\n",
        "\n",
        "# Test the function\n",
        "list1 = [10, 20, [300, 400, [5000, 6000], 500], 30, 40]\n",
        "print(add_item_in_nested_list(list1))\n"
      ],
      "metadata": {
        "colab": {
          "base_uri": "https://localhost:8080/"
        },
        "id": "97BNv51rmS4T",
        "outputId": "2bf35706-3d50-4066-9f05-c5f9851f155a"
      },
      "execution_count": 23,
      "outputs": [
        {
          "output_type": "stream",
          "name": "stdout",
          "text": [
            "[10, 20, [300, 400, [5000, 6000, 7000], 500], 30, 40]\n"
          ]
        }
      ]
    }
  ]
}